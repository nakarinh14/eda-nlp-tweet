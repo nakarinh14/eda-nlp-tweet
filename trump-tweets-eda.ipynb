{
 "cells": [
  {
   "cell_type": "code",
   "execution_count": 1,
   "metadata": {
    "_cell_guid": "b1076dfc-b9ad-4769-8c92-a6c4dae69d19",
    "_uuid": "8f2839f25d086af736a60e9eeb907d3b93b6e0e5"
   },
   "outputs": [
    {
     "name": "stdout",
     "output_type": "stream",
     "text": [
      "/kaggle/input/realdonaldtrump.ndjson\n"
     ]
    }
   ],
   "source": [
    "# This Python 3 environment comes with many helpful analytics libraries installed\n",
    "# It is defined by the kaggle/python docker image: https://github.com/kaggle/docker-python\n",
    "# For example, here's several helpful packages to load in \n",
    "\n",
    "import numpy as np # linear algebra\n",
    "import pandas as pd # data processing, CSV file I/O (e.g. pd.read_csv)\n",
    "import seaborn as sns\n",
    "sns.set(style=\"darkgrid\")\n",
    "import string\n",
    "import nltk\n",
    "import matplotlib.pyplot as plt\n",
    "# Input data files are available in the \"../input/\" directory.\n",
    "# For example, running this (by clicking run or pressing Shift+Enter) will list all files under the input directory\n",
    "import json\n",
    "import os\n",
    "for dirname, _, filenames in os.walk('/kaggle/input'):\n",
    "    for filename in filenames:\n",
    "        print(os.path.join(dirname, filename))\n",
    "\n",
    "# Any results you write to the current directory are saved as output."
   ]
  },
  {
   "cell_type": "code",
   "execution_count": 2,
   "metadata": {
    "_cell_guid": "79c7e3d0-c299-4dcb-8224-4455121ee9b0",
    "_uuid": "d629ff2d2480ee46fbb7e2d37f6b5fab8052498a"
   },
   "outputs": [],
   "source": [
    "data_url = '../input/realdonaldtrump.ndjson'\n",
    "records = map(json.loads, open(data_url))\n",
    "df = pd.DataFrame.from_records(records)"
   ]
  },
  {
   "cell_type": "code",
   "execution_count": 3,
   "metadata": {},
   "outputs": [
    {
     "data": {
      "text/plain": [
       "(40241, 34)"
      ]
     },
     "execution_count": 3,
     "metadata": {},
     "output_type": "execute_result"
    }
   ],
   "source": [
    "df.shape"
   ]
  },
  {
   "cell_type": "code",
   "execution_count": 4,
   "metadata": {},
   "outputs": [
    {
     "data": {
      "text/html": [
       "<div>\n",
       "<style scoped>\n",
       "    .dataframe tbody tr th:only-of-type {\n",
       "        vertical-align: middle;\n",
       "    }\n",
       "\n",
       "    .dataframe tbody tr th {\n",
       "        vertical-align: top;\n",
       "    }\n",
       "\n",
       "    .dataframe thead th {\n",
       "        text-align: right;\n",
       "    }\n",
       "</style>\n",
       "<table border=\"1\" class=\"dataframe\">\n",
       "  <thead>\n",
       "    <tr style=\"text-align: right;\">\n",
       "      <th></th>\n",
       "      <th>contributors</th>\n",
       "      <th>coordinates</th>\n",
       "      <th>created_at</th>\n",
       "      <th>entities</th>\n",
       "      <th>favorite_count</th>\n",
       "      <th>favorited</th>\n",
       "      <th>geo</th>\n",
       "      <th>id</th>\n",
       "      <th>id_str</th>\n",
       "      <th>in_reply_to_screen_name</th>\n",
       "      <th>...</th>\n",
       "      <th>possibly_sensitive</th>\n",
       "      <th>extended_entities</th>\n",
       "      <th>quoted_status</th>\n",
       "      <th>quoted_status_id</th>\n",
       "      <th>quoted_status_id_str</th>\n",
       "      <th>retweeted_status</th>\n",
       "      <th>withheld_copyright</th>\n",
       "      <th>withheld_in_countries</th>\n",
       "      <th>withheld_scope</th>\n",
       "      <th>scopes</th>\n",
       "    </tr>\n",
       "  </thead>\n",
       "  <tbody>\n",
       "    <tr>\n",
       "      <th>0</th>\n",
       "      <td>None</td>\n",
       "      <td>None</td>\n",
       "      <td>Mon May 04 18:54:25 +0000 2009</td>\n",
       "      <td>{'hashtags': [], 'symbols': [], 'urls': [], 'u...</td>\n",
       "      <td>850</td>\n",
       "      <td>False</td>\n",
       "      <td>None</td>\n",
       "      <td>1698308935</td>\n",
       "      <td>1698308935</td>\n",
       "      <td>None</td>\n",
       "      <td>...</td>\n",
       "      <td>NaN</td>\n",
       "      <td>NaN</td>\n",
       "      <td>NaN</td>\n",
       "      <td>NaN</td>\n",
       "      <td>NaN</td>\n",
       "      <td>NaN</td>\n",
       "      <td>NaN</td>\n",
       "      <td>NaN</td>\n",
       "      <td>NaN</td>\n",
       "      <td>NaN</td>\n",
       "    </tr>\n",
       "    <tr>\n",
       "      <th>1</th>\n",
       "      <td>None</td>\n",
       "      <td>None</td>\n",
       "      <td>Tue May 05 01:00:10 +0000 2009</td>\n",
       "      <td>{'hashtags': [], 'symbols': [], 'urls': [], 'u...</td>\n",
       "      <td>282</td>\n",
       "      <td>False</td>\n",
       "      <td>None</td>\n",
       "      <td>1701461182</td>\n",
       "      <td>1701461182</td>\n",
       "      <td>None</td>\n",
       "      <td>...</td>\n",
       "      <td>NaN</td>\n",
       "      <td>NaN</td>\n",
       "      <td>NaN</td>\n",
       "      <td>NaN</td>\n",
       "      <td>NaN</td>\n",
       "      <td>NaN</td>\n",
       "      <td>NaN</td>\n",
       "      <td>NaN</td>\n",
       "      <td>NaN</td>\n",
       "      <td>NaN</td>\n",
       "    </tr>\n",
       "    <tr>\n",
       "      <th>2</th>\n",
       "      <td>None</td>\n",
       "      <td>None</td>\n",
       "      <td>Fri May 08 13:38:08 +0000 2009</td>\n",
       "      <td>{'hashtags': [], 'symbols': [], 'urls': [], 'u...</td>\n",
       "      <td>16</td>\n",
       "      <td>False</td>\n",
       "      <td>None</td>\n",
       "      <td>1737479987</td>\n",
       "      <td>1737479987</td>\n",
       "      <td>None</td>\n",
       "      <td>...</td>\n",
       "      <td>NaN</td>\n",
       "      <td>NaN</td>\n",
       "      <td>NaN</td>\n",
       "      <td>NaN</td>\n",
       "      <td>NaN</td>\n",
       "      <td>NaN</td>\n",
       "      <td>NaN</td>\n",
       "      <td>NaN</td>\n",
       "      <td>NaN</td>\n",
       "      <td>NaN</td>\n",
       "    </tr>\n",
       "    <tr>\n",
       "      <th>3</th>\n",
       "      <td>None</td>\n",
       "      <td>None</td>\n",
       "      <td>Fri May 08 20:40:15 +0000 2009</td>\n",
       "      <td>{'hashtags': [], 'symbols': [], 'urls': [], 'u...</td>\n",
       "      <td>28</td>\n",
       "      <td>False</td>\n",
       "      <td>None</td>\n",
       "      <td>1741160716</td>\n",
       "      <td>1741160716</td>\n",
       "      <td>None</td>\n",
       "      <td>...</td>\n",
       "      <td>NaN</td>\n",
       "      <td>NaN</td>\n",
       "      <td>NaN</td>\n",
       "      <td>NaN</td>\n",
       "      <td>NaN</td>\n",
       "      <td>NaN</td>\n",
       "      <td>NaN</td>\n",
       "      <td>NaN</td>\n",
       "      <td>NaN</td>\n",
       "      <td>NaN</td>\n",
       "    </tr>\n",
       "    <tr>\n",
       "      <th>4</th>\n",
       "      <td>None</td>\n",
       "      <td>None</td>\n",
       "      <td>Tue May 12 14:07:28 +0000 2009</td>\n",
       "      <td>{'hashtags': [], 'symbols': [], 'urls': [], 'u...</td>\n",
       "      <td>1950</td>\n",
       "      <td>False</td>\n",
       "      <td>None</td>\n",
       "      <td>1773561338</td>\n",
       "      <td>1773561338</td>\n",
       "      <td>None</td>\n",
       "      <td>...</td>\n",
       "      <td>NaN</td>\n",
       "      <td>NaN</td>\n",
       "      <td>NaN</td>\n",
       "      <td>NaN</td>\n",
       "      <td>NaN</td>\n",
       "      <td>NaN</td>\n",
       "      <td>NaN</td>\n",
       "      <td>NaN</td>\n",
       "      <td>NaN</td>\n",
       "      <td>NaN</td>\n",
       "    </tr>\n",
       "  </tbody>\n",
       "</table>\n",
       "<p>5 rows × 34 columns</p>\n",
       "</div>"
      ],
      "text/plain": [
       "  contributors coordinates                      created_at  \\\n",
       "0         None        None  Mon May 04 18:54:25 +0000 2009   \n",
       "1         None        None  Tue May 05 01:00:10 +0000 2009   \n",
       "2         None        None  Fri May 08 13:38:08 +0000 2009   \n",
       "3         None        None  Fri May 08 20:40:15 +0000 2009   \n",
       "4         None        None  Tue May 12 14:07:28 +0000 2009   \n",
       "\n",
       "                                            entities  favorite_count  \\\n",
       "0  {'hashtags': [], 'symbols': [], 'urls': [], 'u...             850   \n",
       "1  {'hashtags': [], 'symbols': [], 'urls': [], 'u...             282   \n",
       "2  {'hashtags': [], 'symbols': [], 'urls': [], 'u...              16   \n",
       "3  {'hashtags': [], 'symbols': [], 'urls': [], 'u...              28   \n",
       "4  {'hashtags': [], 'symbols': [], 'urls': [], 'u...            1950   \n",
       "\n",
       "   favorited   geo          id      id_str in_reply_to_screen_name  ...  \\\n",
       "0      False  None  1698308935  1698308935                    None  ...   \n",
       "1      False  None  1701461182  1701461182                    None  ...   \n",
       "2      False  None  1737479987  1737479987                    None  ...   \n",
       "3      False  None  1741160716  1741160716                    None  ...   \n",
       "4      False  None  1773561338  1773561338                    None  ...   \n",
       "\n",
       "   possibly_sensitive extended_entities  quoted_status quoted_status_id  \\\n",
       "0                 NaN               NaN            NaN              NaN   \n",
       "1                 NaN               NaN            NaN              NaN   \n",
       "2                 NaN               NaN            NaN              NaN   \n",
       "3                 NaN               NaN            NaN              NaN   \n",
       "4                 NaN               NaN            NaN              NaN   \n",
       "\n",
       "   quoted_status_id_str retweeted_status withheld_copyright  \\\n",
       "0                   NaN              NaN                NaN   \n",
       "1                   NaN              NaN                NaN   \n",
       "2                   NaN              NaN                NaN   \n",
       "3                   NaN              NaN                NaN   \n",
       "4                   NaN              NaN                NaN   \n",
       "\n",
       "   withheld_in_countries  withheld_scope  scopes  \n",
       "0                    NaN             NaN     NaN  \n",
       "1                    NaN             NaN     NaN  \n",
       "2                    NaN             NaN     NaN  \n",
       "3                    NaN             NaN     NaN  \n",
       "4                    NaN             NaN     NaN  \n",
       "\n",
       "[5 rows x 34 columns]"
      ]
     },
     "execution_count": 4,
     "metadata": {},
     "output_type": "execute_result"
    }
   ],
   "source": [
    "df.head()"
   ]
  },
  {
   "cell_type": "code",
   "execution_count": 5,
   "metadata": {},
   "outputs": [
    {
     "data": {
      "text/plain": [
       "19"
      ]
     },
     "execution_count": 5,
     "metadata": {},
     "output_type": "execute_result"
    }
   ],
   "source": [
    "len(df['source'].unique())"
   ]
  },
  {
   "cell_type": "code",
   "execution_count": 6,
   "metadata": {},
   "outputs": [
    {
     "data": {
      "text/plain": [
       "Index(['contributors', 'coordinates', 'created_at', 'entities',\n",
       "       'favorite_count', 'favorited', 'geo', 'id', 'id_str',\n",
       "       'in_reply_to_screen_name', 'in_reply_to_status_id',\n",
       "       'in_reply_to_status_id_str', 'in_reply_to_user_id',\n",
       "       'in_reply_to_user_id_str', 'is_quote_status', 'lang', 'place',\n",
       "       'retrieved_utc', 'retweet_count', 'retweeted', 'source', 'text',\n",
       "       'truncated', 'user', 'possibly_sensitive', 'extended_entities',\n",
       "       'quoted_status', 'quoted_status_id', 'quoted_status_id_str',\n",
       "       'retweeted_status', 'withheld_copyright', 'withheld_in_countries',\n",
       "       'withheld_scope', 'scopes'],\n",
       "      dtype='object')"
      ]
     },
     "execution_count": 6,
     "metadata": {},
     "output_type": "execute_result"
    }
   ],
   "source": [
    "df.columns"
   ]
  },
  {
   "cell_type": "code",
   "execution_count": 7,
   "metadata": {},
   "outputs": [
    {
     "data": {
      "text/html": [
       "<div>\n",
       "<style scoped>\n",
       "    .dataframe tbody tr th:only-of-type {\n",
       "        vertical-align: middle;\n",
       "    }\n",
       "\n",
       "    .dataframe tbody tr th {\n",
       "        vertical-align: top;\n",
       "    }\n",
       "\n",
       "    .dataframe thead th {\n",
       "        text-align: right;\n",
       "    }\n",
       "</style>\n",
       "<table border=\"1\" class=\"dataframe\">\n",
       "  <thead>\n",
       "    <tr style=\"text-align: right;\">\n",
       "      <th></th>\n",
       "      <th>favorite_count</th>\n",
       "      <th>id</th>\n",
       "      <th>in_reply_to_status_id</th>\n",
       "      <th>in_reply_to_user_id</th>\n",
       "      <th>retrieved_utc</th>\n",
       "      <th>retweet_count</th>\n",
       "      <th>quoted_status_id</th>\n",
       "    </tr>\n",
       "  </thead>\n",
       "  <tbody>\n",
       "    <tr>\n",
       "      <th>count</th>\n",
       "      <td>40241.000000</td>\n",
       "      <td>4.024100e+04</td>\n",
       "      <td>2.393000e+03</td>\n",
       "      <td>2.873000e+03</td>\n",
       "      <td>4.024100e+04</td>\n",
       "      <td>40241.000000</td>\n",
       "      <td>6.420000e+02</td>\n",
       "    </tr>\n",
       "    <tr>\n",
       "      <th>mean</th>\n",
       "      <td>17699.030814</td>\n",
       "      <td>5.850965e+17</td>\n",
       "      <td>4.152022e+17</td>\n",
       "      <td>2.859287e+14</td>\n",
       "      <td>1.562867e+09</td>\n",
       "      <td>4956.459134</td>\n",
       "      <td>9.164181e+17</td>\n",
       "    </tr>\n",
       "    <tr>\n",
       "      <th>std</th>\n",
       "      <td>37034.338358</td>\n",
       "      <td>2.791762e+17</td>\n",
       "      <td>2.572739e+17</td>\n",
       "      <td>1.532587e+16</td>\n",
       "      <td>4.381571e+01</td>\n",
       "      <td>9655.247594</td>\n",
       "      <td>1.942676e+17</td>\n",
       "    </tr>\n",
       "    <tr>\n",
       "      <th>min</th>\n",
       "      <td>0.000000</td>\n",
       "      <td>1.698309e+09</td>\n",
       "      <td>1.288894e+17</td>\n",
       "      <td>7.425000e+03</td>\n",
       "      <td>1.562867e+09</td>\n",
       "      <td>0.000000</td>\n",
       "      <td>3.009181e+16</td>\n",
       "    </tr>\n",
       "    <tr>\n",
       "      <th>25%</th>\n",
       "      <td>21.000000</td>\n",
       "      <td>3.517832e+17</td>\n",
       "      <td>2.920414e+17</td>\n",
       "      <td>2.511377e+07</td>\n",
       "      <td>1.562867e+09</td>\n",
       "      <td>23.000000</td>\n",
       "      <td>7.118302e+17</td>\n",
       "    </tr>\n",
       "    <tr>\n",
       "      <th>50%</th>\n",
       "      <td>114.000000</td>\n",
       "      <td>5.534068e+17</td>\n",
       "      <td>3.151636e+17</td>\n",
       "      <td>1.727381e+08</td>\n",
       "      <td>1.562867e+09</td>\n",
       "      <td>246.000000</td>\n",
       "      <td>9.706234e+17</td>\n",
       "    </tr>\n",
       "    <tr>\n",
       "      <th>75%</th>\n",
       "      <td>9468.000000</td>\n",
       "      <td>7.619873e+17</td>\n",
       "      <td>3.651525e+17</td>\n",
       "      <td>4.518238e+08</td>\n",
       "      <td>1.562867e+09</td>\n",
       "      <td>6141.000000</td>\n",
       "      <td>1.097188e+18</td>\n",
       "    </tr>\n",
       "    <tr>\n",
       "      <th>max</th>\n",
       "      <td>576394.000000</td>\n",
       "      <td>1.149346e+18</td>\n",
       "      <td>1.149346e+18</td>\n",
       "      <td>8.214724e+17</td>\n",
       "      <td>1.562867e+09</td>\n",
       "      <td>321390.000000</td>\n",
       "      <td>1.149093e+18</td>\n",
       "    </tr>\n",
       "  </tbody>\n",
       "</table>\n",
       "</div>"
      ],
      "text/plain": [
       "       favorite_count            id  in_reply_to_status_id  \\\n",
       "count    40241.000000  4.024100e+04           2.393000e+03   \n",
       "mean     17699.030814  5.850965e+17           4.152022e+17   \n",
       "std      37034.338358  2.791762e+17           2.572739e+17   \n",
       "min          0.000000  1.698309e+09           1.288894e+17   \n",
       "25%         21.000000  3.517832e+17           2.920414e+17   \n",
       "50%        114.000000  5.534068e+17           3.151636e+17   \n",
       "75%       9468.000000  7.619873e+17           3.651525e+17   \n",
       "max     576394.000000  1.149346e+18           1.149346e+18   \n",
       "\n",
       "       in_reply_to_user_id  retrieved_utc  retweet_count  quoted_status_id  \n",
       "count         2.873000e+03   4.024100e+04   40241.000000      6.420000e+02  \n",
       "mean          2.859287e+14   1.562867e+09    4956.459134      9.164181e+17  \n",
       "std           1.532587e+16   4.381571e+01    9655.247594      1.942676e+17  \n",
       "min           7.425000e+03   1.562867e+09       0.000000      3.009181e+16  \n",
       "25%           2.511377e+07   1.562867e+09      23.000000      7.118302e+17  \n",
       "50%           1.727381e+08   1.562867e+09     246.000000      9.706234e+17  \n",
       "75%           4.518238e+08   1.562867e+09    6141.000000      1.097188e+18  \n",
       "max           8.214724e+17   1.562867e+09  321390.000000      1.149093e+18  "
      ]
     },
     "execution_count": 7,
     "metadata": {},
     "output_type": "execute_result"
    }
   ],
   "source": [
    "df.describe()"
   ]
  },
  {
   "cell_type": "code",
   "execution_count": 8,
   "metadata": {},
   "outputs": [
    {
     "data": {
      "text/plain": [
       "contributors                 40241\n",
       "coordinates                  37826\n",
       "created_at                       0\n",
       "entities                         0\n",
       "favorite_count                   0\n",
       "favorited                        0\n",
       "geo                          37826\n",
       "id                               0\n",
       "id_str                           0\n",
       "in_reply_to_screen_name      37368\n",
       "in_reply_to_status_id        37848\n",
       "in_reply_to_status_id_str    37848\n",
       "in_reply_to_user_id          37368\n",
       "in_reply_to_user_id_str      37368\n",
       "is_quote_status                  0\n",
       "lang                             0\n",
       "place                        37250\n",
       "retrieved_utc                    0\n",
       "retweet_count                    0\n",
       "retweeted                        0\n",
       "source                           0\n",
       "text                             0\n",
       "truncated                        0\n",
       "user                             0\n",
       "possibly_sensitive           30818\n",
       "extended_entities            38038\n",
       "quoted_status                39747\n",
       "quoted_status_id             39599\n",
       "quoted_status_id_str         39599\n",
       "retweeted_status             38546\n",
       "withheld_copyright           40240\n",
       "withheld_in_countries        40240\n",
       "withheld_scope               40240\n",
       "scopes                       40177\n",
       "dtype: int64"
      ]
     },
     "execution_count": 8,
     "metadata": {},
     "output_type": "execute_result"
    }
   ],
   "source": [
    "df.isnull().sum()"
   ]
  },
  {
   "cell_type": "code",
   "execution_count": null,
   "metadata": {},
   "outputs": [],
   "source": []
  },
  {
   "cell_type": "code",
   "execution_count": 9,
   "metadata": {},
   "outputs": [],
   "source": [
    "df['created_at'] = pd.to_datetime(df['created_at'])\n"
   ]
  },
  {
   "cell_type": "code",
   "execution_count": 10,
   "metadata": {},
   "outputs": [
    {
     "data": {
      "image/png": "[encoded data removed]",
      "text/plain": [
       "<Figure size 1440x720 with 1 Axes>"
      ]
     },
     "metadata": {
      "needs_background": "light"
     },
     "output_type": "display_data"
    }
   ],
   "source": [
    "plt.figure(figsize=(20,10))\n",
    "df.groupby([df['created_at'].dt.year, df['created_at'].dt.month])['created_at'].count().plot()\n",
    "plt.xlabel('Datetime (Year, month)')\n",
    "plt.ylabel('Number of tweets created')\n",
    "plt.show()"
   ]
  },
  {
   "cell_type": "code",
   "execution_count": 11,
   "metadata": {},
   "outputs": [
    {
     "data": {
      "text/html": [
       "<div>\n",
       "<style scoped>\n",
       "    .dataframe tbody tr th:only-of-type {\n",
       "        vertical-align: middle;\n",
       "    }\n",
       "\n",
       "    .dataframe tbody tr th {\n",
       "        vertical-align: top;\n",
       "    }\n",
       "\n",
       "    .dataframe thead th {\n",
       "        text-align: right;\n",
       "    }\n",
       "</style>\n",
       "<table border=\"1\" class=\"dataframe\">\n",
       "  <thead>\n",
       "    <tr style=\"text-align: right;\">\n",
       "      <th></th>\n",
       "      <th></th>\n",
       "      <th>contributors</th>\n",
       "      <th>coordinates</th>\n",
       "      <th>created_at</th>\n",
       "      <th>entities</th>\n",
       "      <th>favorite_count</th>\n",
       "      <th>favorited</th>\n",
       "      <th>geo</th>\n",
       "      <th>id</th>\n",
       "      <th>id_str</th>\n",
       "      <th>in_reply_to_screen_name</th>\n",
       "      <th>...</th>\n",
       "      <th>possibly_sensitive</th>\n",
       "      <th>extended_entities</th>\n",
       "      <th>quoted_status</th>\n",
       "      <th>quoted_status_id</th>\n",
       "      <th>quoted_status_id_str</th>\n",
       "      <th>retweeted_status</th>\n",
       "      <th>withheld_copyright</th>\n",
       "      <th>withheld_in_countries</th>\n",
       "      <th>withheld_scope</th>\n",
       "      <th>scopes</th>\n",
       "    </tr>\n",
       "    <tr>\n",
       "      <th>month</th>\n",
       "      <th>year</th>\n",
       "      <th></th>\n",
       "      <th></th>\n",
       "      <th></th>\n",
       "      <th></th>\n",
       "      <th></th>\n",
       "      <th></th>\n",
       "      <th></th>\n",
       "      <th></th>\n",
       "      <th></th>\n",
       "      <th></th>\n",
       "      <th></th>\n",
       "      <th></th>\n",
       "      <th></th>\n",
       "      <th></th>\n",
       "      <th></th>\n",
       "      <th></th>\n",
       "      <th></th>\n",
       "      <th></th>\n",
       "      <th></th>\n",
       "      <th></th>\n",
       "      <th></th>\n",
       "    </tr>\n",
       "  </thead>\n",
       "  <tbody>\n",
       "    <tr>\n",
       "      <th rowspan=\"5\" valign=\"top\">1</th>\n",
       "      <th>2010</th>\n",
       "      <td>0</td>\n",
       "      <td>0</td>\n",
       "      <td>4</td>\n",
       "      <td>4</td>\n",
       "      <td>4</td>\n",
       "      <td>4</td>\n",
       "      <td>0</td>\n",
       "      <td>4</td>\n",
       "      <td>4</td>\n",
       "      <td>0</td>\n",
       "      <td>...</td>\n",
       "      <td>0</td>\n",
       "      <td>0</td>\n",
       "      <td>0</td>\n",
       "      <td>0</td>\n",
       "      <td>0</td>\n",
       "      <td>0</td>\n",
       "      <td>0</td>\n",
       "      <td>0</td>\n",
       "      <td>0</td>\n",
       "      <td>0</td>\n",
       "    </tr>\n",
       "    <tr>\n",
       "      <th>2011</th>\n",
       "      <td>0</td>\n",
       "      <td>0</td>\n",
       "      <td>9</td>\n",
       "      <td>9</td>\n",
       "      <td>9</td>\n",
       "      <td>9</td>\n",
       "      <td>0</td>\n",
       "      <td>9</td>\n",
       "      <td>9</td>\n",
       "      <td>0</td>\n",
       "      <td>...</td>\n",
       "      <td>0</td>\n",
       "      <td>0</td>\n",
       "      <td>0</td>\n",
       "      <td>0</td>\n",
       "      <td>0</td>\n",
       "      <td>0</td>\n",
       "      <td>0</td>\n",
       "      <td>0</td>\n",
       "      <td>0</td>\n",
       "      <td>0</td>\n",
       "    </tr>\n",
       "    <tr>\n",
       "      <th>2012</th>\n",
       "      <td>0</td>\n",
       "      <td>0</td>\n",
       "      <td>182</td>\n",
       "      <td>182</td>\n",
       "      <td>182</td>\n",
       "      <td>182</td>\n",
       "      <td>0</td>\n",
       "      <td>182</td>\n",
       "      <td>182</td>\n",
       "      <td>8</td>\n",
       "      <td>...</td>\n",
       "      <td>111</td>\n",
       "      <td>0</td>\n",
       "      <td>0</td>\n",
       "      <td>0</td>\n",
       "      <td>0</td>\n",
       "      <td>0</td>\n",
       "      <td>0</td>\n",
       "      <td>0</td>\n",
       "      <td>0</td>\n",
       "      <td>0</td>\n",
       "    </tr>\n",
       "    <tr>\n",
       "      <th>2013</th>\n",
       "      <td>0</td>\n",
       "      <td>0</td>\n",
       "      <td>814</td>\n",
       "      <td>814</td>\n",
       "      <td>814</td>\n",
       "      <td>814</td>\n",
       "      <td>0</td>\n",
       "      <td>814</td>\n",
       "      <td>814</td>\n",
       "      <td>386</td>\n",
       "      <td>...</td>\n",
       "      <td>82</td>\n",
       "      <td>2</td>\n",
       "      <td>0</td>\n",
       "      <td>0</td>\n",
       "      <td>0</td>\n",
       "      <td>0</td>\n",
       "      <td>0</td>\n",
       "      <td>0</td>\n",
       "      <td>0</td>\n",
       "      <td>0</td>\n",
       "    </tr>\n",
       "    <tr>\n",
       "      <th>2014</th>\n",
       "      <td>0</td>\n",
       "      <td>32</td>\n",
       "      <td>365</td>\n",
       "      <td>365</td>\n",
       "      <td>365</td>\n",
       "      <td>365</td>\n",
       "      <td>32</td>\n",
       "      <td>365</td>\n",
       "      <td>365</td>\n",
       "      <td>11</td>\n",
       "      <td>...</td>\n",
       "      <td>43</td>\n",
       "      <td>6</td>\n",
       "      <td>0</td>\n",
       "      <td>0</td>\n",
       "      <td>0</td>\n",
       "      <td>0</td>\n",
       "      <td>0</td>\n",
       "      <td>0</td>\n",
       "      <td>0</td>\n",
       "      <td>0</td>\n",
       "    </tr>\n",
       "    <tr>\n",
       "      <th>...</th>\n",
       "      <th>...</th>\n",
       "      <td>...</td>\n",
       "      <td>...</td>\n",
       "      <td>...</td>\n",
       "      <td>...</td>\n",
       "      <td>...</td>\n",
       "      <td>...</td>\n",
       "      <td>...</td>\n",
       "      <td>...</td>\n",
       "      <td>...</td>\n",
       "      <td>...</td>\n",
       "      <td>...</td>\n",
       "      <td>...</td>\n",
       "      <td>...</td>\n",
       "      <td>...</td>\n",
       "      <td>...</td>\n",
       "      <td>...</td>\n",
       "      <td>...</td>\n",
       "      <td>...</td>\n",
       "      <td>...</td>\n",
       "      <td>...</td>\n",
       "      <td>...</td>\n",
       "    </tr>\n",
       "    <tr>\n",
       "      <th rowspan=\"5\" valign=\"top\">12</th>\n",
       "      <th>2014</th>\n",
       "      <td>0</td>\n",
       "      <td>124</td>\n",
       "      <td>714</td>\n",
       "      <td>714</td>\n",
       "      <td>714</td>\n",
       "      <td>714</td>\n",
       "      <td>124</td>\n",
       "      <td>714</td>\n",
       "      <td>714</td>\n",
       "      <td>2</td>\n",
       "      <td>...</td>\n",
       "      <td>137</td>\n",
       "      <td>21</td>\n",
       "      <td>0</td>\n",
       "      <td>0</td>\n",
       "      <td>0</td>\n",
       "      <td>0</td>\n",
       "      <td>0</td>\n",
       "      <td>0</td>\n",
       "      <td>0</td>\n",
       "      <td>0</td>\n",
       "    </tr>\n",
       "    <tr>\n",
       "      <th>2015</th>\n",
       "      <td>0</td>\n",
       "      <td>0</td>\n",
       "      <td>620</td>\n",
       "      <td>620</td>\n",
       "      <td>620</td>\n",
       "      <td>620</td>\n",
       "      <td>0</td>\n",
       "      <td>620</td>\n",
       "      <td>620</td>\n",
       "      <td>4</td>\n",
       "      <td>...</td>\n",
       "      <td>189</td>\n",
       "      <td>98</td>\n",
       "      <td>8</td>\n",
       "      <td>8</td>\n",
       "      <td>8</td>\n",
       "      <td>0</td>\n",
       "      <td>0</td>\n",
       "      <td>0</td>\n",
       "      <td>0</td>\n",
       "      <td>0</td>\n",
       "    </tr>\n",
       "    <tr>\n",
       "      <th>2016</th>\n",
       "      <td>0</td>\n",
       "      <td>0</td>\n",
       "      <td>137</td>\n",
       "      <td>137</td>\n",
       "      <td>137</td>\n",
       "      <td>137</td>\n",
       "      <td>0</td>\n",
       "      <td>137</td>\n",
       "      <td>137</td>\n",
       "      <td>0</td>\n",
       "      <td>...</td>\n",
       "      <td>36</td>\n",
       "      <td>8</td>\n",
       "      <td>0</td>\n",
       "      <td>0</td>\n",
       "      <td>0</td>\n",
       "      <td>6</td>\n",
       "      <td>0</td>\n",
       "      <td>0</td>\n",
       "      <td>0</td>\n",
       "      <td>0</td>\n",
       "    </tr>\n",
       "    <tr>\n",
       "      <th>2017</th>\n",
       "      <td>0</td>\n",
       "      <td>0</td>\n",
       "      <td>196</td>\n",
       "      <td>196</td>\n",
       "      <td>196</td>\n",
       "      <td>196</td>\n",
       "      <td>0</td>\n",
       "      <td>196</td>\n",
       "      <td>196</td>\n",
       "      <td>2</td>\n",
       "      <td>...</td>\n",
       "      <td>79</td>\n",
       "      <td>20</td>\n",
       "      <td>10</td>\n",
       "      <td>12</td>\n",
       "      <td>12</td>\n",
       "      <td>23</td>\n",
       "      <td>0</td>\n",
       "      <td>0</td>\n",
       "      <td>0</td>\n",
       "      <td>0</td>\n",
       "    </tr>\n",
       "    <tr>\n",
       "      <th>2018</th>\n",
       "      <td>0</td>\n",
       "      <td>0</td>\n",
       "      <td>283</td>\n",
       "      <td>283</td>\n",
       "      <td>283</td>\n",
       "      <td>283</td>\n",
       "      <td>0</td>\n",
       "      <td>283</td>\n",
       "      <td>283</td>\n",
       "      <td>12</td>\n",
       "      <td>...</td>\n",
       "      <td>28</td>\n",
       "      <td>13</td>\n",
       "      <td>2</td>\n",
       "      <td>3</td>\n",
       "      <td>3</td>\n",
       "      <td>12</td>\n",
       "      <td>0</td>\n",
       "      <td>0</td>\n",
       "      <td>0</td>\n",
       "      <td>0</td>\n",
       "    </tr>\n",
       "  </tbody>\n",
       "</table>\n",
       "<p>123 rows × 34 columns</p>\n",
       "</div>"
      ],
      "text/plain": [
       "            contributors  coordinates  created_at  entities  favorite_count  \\\n",
       "month year                                                                    \n",
       "1     2010             0            0           4         4               4   \n",
       "      2011             0            0           9         9               9   \n",
       "      2012             0            0         182       182             182   \n",
       "      2013             0            0         814       814             814   \n",
       "      2014             0           32         365       365             365   \n",
       "...                  ...          ...         ...       ...             ...   \n",
       "12    2014             0          124         714       714             714   \n",
       "      2015             0            0         620       620             620   \n",
       "      2016             0            0         137       137             137   \n",
       "      2017             0            0         196       196             196   \n",
       "      2018             0            0         283       283             283   \n",
       "\n",
       "            favorited  geo   id  id_str  in_reply_to_screen_name  ...  \\\n",
       "month year                                                        ...   \n",
       "1     2010          4    0    4       4                        0  ...   \n",
       "      2011          9    0    9       9                        0  ...   \n",
       "      2012        182    0  182     182                        8  ...   \n",
       "      2013        814    0  814     814                      386  ...   \n",
       "      2014        365   32  365     365                       11  ...   \n",
       "...               ...  ...  ...     ...                      ...  ...   \n",
       "12    2014        714  124  714     714                        2  ...   \n",
       "      2015        620    0  620     620                        4  ...   \n",
       "      2016        137    0  137     137                        0  ...   \n",
       "      2017        196    0  196     196                        2  ...   \n",
       "      2018        283    0  283     283                       12  ...   \n",
       "\n",
       "            possibly_sensitive  extended_entities  quoted_status  \\\n",
       "month year                                                         \n",
       "1     2010                   0                  0              0   \n",
       "      2011                   0                  0              0   \n",
       "      2012                 111                  0              0   \n",
       "      2013                  82                  2              0   \n",
       "      2014                  43                  6              0   \n",
       "...                        ...                ...            ...   \n",
       "12    2014                 137                 21              0   \n",
       "      2015                 189                 98              8   \n",
       "      2016                  36                  8              0   \n",
       "      2017                  79                 20             10   \n",
       "      2018                  28                 13              2   \n",
       "\n",
       "            quoted_status_id  quoted_status_id_str  retweeted_status  \\\n",
       "month year                                                             \n",
       "1     2010                 0                     0                 0   \n",
       "      2011                 0                     0                 0   \n",
       "      2012                 0                     0                 0   \n",
       "      2013                 0                     0                 0   \n",
       "      2014                 0                     0                 0   \n",
       "...                      ...                   ...               ...   \n",
       "12    2014                 0                     0                 0   \n",
       "      2015                 8                     8                 0   \n",
       "      2016                 0                     0                 6   \n",
       "      2017                12                    12                23   \n",
       "      2018                 3                     3                12   \n",
       "\n",
       "            withheld_copyright  withheld_in_countries  withheld_scope  scopes  \n",
       "month year                                                                     \n",
       "1     2010                   0                      0               0       0  \n",
       "      2011                   0                      0               0       0  \n",
       "      2012                   0                      0               0       0  \n",
       "      2013                   0                      0               0       0  \n",
       "      2014                   0                      0               0       0  \n",
       "...                        ...                    ...             ...     ...  \n",
       "12    2014                   0                      0               0       0  \n",
       "      2015                   0                      0               0       0  \n",
       "      2016                   0                      0               0       0  \n",
       "      2017                   0                      0               0       0  \n",
       "      2018                   0                      0               0       0  \n",
       "\n",
       "[123 rows x 34 columns]"
      ]
     },
     "execution_count": 11,
     "metadata": {},
     "output_type": "execute_result"
    }
   ],
   "source": [
    "df['month'] = df['created_at'].dt.month\n",
    "df['year'] = df['created_at'].dt.year\n",
    "tmp = df.groupby(['month', 'year']).count()\n",
    "tmp"
   ]
  },
  {
   "cell_type": "code",
   "execution_count": 12,
   "metadata": {},
   "outputs": [
    {
     "name": "stderr",
     "output_type": "stream",
     "text": [
      "/opt/conda/lib/python3.6/site-packages/seaborn/relational.py:792: FutureWarning: Converting timezone-aware DatetimeArray to timezone-naive ndarray with 'datetime64[ns]' dtype. In the future, this will return an ndarray with 'object' dtype where each element is a 'pandas.Timestamp' with the correct 'tz'.\n",
      "\tTo accept the future behavior, pass 'dtype=object'.\n",
      "\tTo keep the old behavior, pass 'dtype=\"datetime64[ns]\"'.\n",
      "  x, y = np.asarray(x), np.asarray(y)\n"
     ]
    },
    {
     "data": {
      "text/plain": [
       "<seaborn.axisgrid.FacetGrid at 0x7f7c244b3f60>"
      ]
     },
     "execution_count": 12,
     "metadata": {},
     "output_type": "execute_result"
    },
    {
     "data": {
      "text/plain": [
       "<Figure size 1440x1440 with 0 Axes>"
      ]
     },
     "metadata": {},
     "output_type": "display_data"
    },
    {
     "data": {
      "image/png": "[encoded data removed]",
      "text/plain": [
       "<Figure size 360x360 with 1 Axes>"
      ]
     },
     "metadata": {
      "needs_background": "light"
     },
     "output_type": "display_data"
    }
   ],
   "source": [
    "plt.figure(figsize=(20,20))\n",
    "from pandas.plotting import register_matplotlib_converters\n",
    "register_matplotlib_converters()\n",
    "sns.relplot( 'created_at', 'favorite_count',kind=\"line\",data=df)"
   ]
  },
  {
   "cell_type": "code",
   "execution_count": 13,
   "metadata": {},
   "outputs": [
    {
     "data": {
      "text/plain": [
       "<matplotlib.axes._subplots.AxesSubplot at 0x7f7c2457def0>"
      ]
     },
     "execution_count": 13,
     "metadata": {},
     "output_type": "execute_result"
    },
    {
     "data": {
      "image/png": "[encoded data removed]",
      "text/plain": [
       "<Figure size 1080x504 with 1 Axes>"
      ]
     },
     "metadata": {
      "needs_background": "light"
     },
     "output_type": "display_data"
    }
   ],
   "source": [
    "plt.figure(figsize=(15,7))\n",
    "sns.distplot(df['favorite_count'], kde=False)"
   ]
  },
  {
   "cell_type": "code",
   "execution_count": 14,
   "metadata": {},
   "outputs": [
    {
     "name": "stdout",
     "output_type": "stream",
     "text": [
      "Maximum favourite count is 576394.\n"
     ]
    },
    {
     "data": {
      "text/plain": [
       "'Such a beautiful and important evening! The forgotten man and woman will never be forgotten again. We will all come together as never before'"
      ]
     },
     "execution_count": 14,
     "metadata": {},
     "output_type": "execute_result"
    }
   ],
   "source": [
    "print(\"Maximum favourite count is {}.\".format(df['favorite_count'].max()))\n",
    "df.iloc[df['favorite_count'].idxmax()].text"
   ]
  },
  {
   "cell_type": "code",
   "execution_count": 15,
   "metadata": {},
   "outputs": [
    {
     "data": {
      "text/plain": [
       "array([\"{'hashtags': [], 'symbols': [], 'urls': [], 'user_mentions': []}\",\n",
       "       \"{'hashtags': [], 'symbols': [], 'urls': [], 'user_mentions': [{'id': 52544275, 'id_str': '52544275', 'indices': [46, 58], 'name': 'Ivanka Trump', 'screen_name': 'IvankaTrump'}]}\",\n",
       "       \"{'hashtags': [], 'symbols': [], 'urls': [], 'user_mentions': [{'id': 18456892, 'id_str': '18456892', 'indices': [17, 30], 'name': 'Bret Michaels', 'screen_name': 'bretmichaels'}, {'id': 30274144, 'id_str': '30274144', 'indices': [34, 46], 'name': 'Holly🌸Robinson🌸Peete', 'screen_name': 'hollyrpeete'}]}\",\n",
       "       ...,\n",
       "       \"{'hashtags': [], 'symbols': [], 'urls': [{'display_url': 'twitter.com/i/web/status/1…', 'expanded_url': 'https://twitter.com/i/web/status/1149345680189722630', 'indices': [116, 139], 'url': 'https://t.co/Xu0117O2p8'}], 'user_mentions': []}\",\n",
       "       \"{'hashtags': [], 'symbols': [], 'urls': [{'display_url': 'twitter.com/i/web/status/1…', 'expanded_url': 'https://twitter.com/i/web/status/1149345681829744647', 'indices': [117, 140], 'url': 'https://t.co/GhyRoi1TGA'}], 'user_mentions': []}\",\n",
       "       \"{'hashtags': [], 'symbols': [], 'urls': [{'display_url': 'twitter.com/i/web/status/1…', 'expanded_url': 'https://twitter.com/i/web/status/1149345683138367491', 'indices': [117, 140], 'url': 'https://t.co/zAYNhLI8Fi'}], 'user_mentions': []}\"],\n",
       "      dtype=object)"
      ]
     },
     "execution_count": 15,
     "metadata": {},
     "output_type": "execute_result"
    }
   ],
   "source": [
    "df['entities'].astype('str').unique()"
   ]
  },
  {
   "cell_type": "markdown",
   "metadata": {},
   "source": [
    "Work on Date time tweet\n"
   ]
  },
  {
   "cell_type": "code",
   "execution_count": 16,
   "metadata": {},
   "outputs": [
    {
     "data": {
      "text/plain": [
       "0    <a href=\"http://twitter.com\" rel=\"nofollow\">Tw...\n",
       "1    <a href=\"http://twitter.com\" rel=\"nofollow\">Tw...\n",
       "2    <a href=\"http://twitter.com\" rel=\"nofollow\">Tw...\n",
       "3    <a href=\"http://twitter.com\" rel=\"nofollow\">Tw...\n",
       "4    <a href=\"http://twitter.com\" rel=\"nofollow\">Tw...\n",
       "Name: source, dtype: object"
      ]
     },
     "execution_count": 16,
     "metadata": {},
     "output_type": "execute_result"
    }
   ],
   "source": [
    "df['source'].iloc[:5]"
   ]
  },
  {
   "cell_type": "code",
   "execution_count": 17,
   "metadata": {},
   "outputs": [
    {
     "data": {
      "text/plain": [
       "array(['Twitter Web Client', 'TwitLonger Beta', 'TweetDeck', 'Facebook',\n",
       "       'Twitter for iPhone', 'Twitter Web App', 'Twitter for Android',\n",
       "       'Instagram', 'Twitlonger', 'Vine - Make a Scene',\n",
       "       'Twitter for Websites', 'Twitter for BlackBerry',\n",
       "       'Neatly For BlackBerry 10', 'Periscope', 'Twitter QandA',\n",
       "       'Twitter Mirror for iPad', 'Twitter Ads', 'Twitter for iPad',\n",
       "       'Twitter Media Studio'], dtype=object)"
      ]
     },
     "execution_count": 17,
     "metadata": {},
     "output_type": "execute_result"
    }
   ],
   "source": [
    "import re\n",
    "df['source'] = df['source'].str.replace(r'<[^<]+?>','')\n",
    "df['source'].unique()"
   ]
  },
  {
   "cell_type": "code",
   "execution_count": 18,
   "metadata": {},
   "outputs": [
    {
     "data": {
      "text/plain": [
       "<matplotlib.axes._subplots.AxesSubplot at 0x7f7c2456d6a0>"
      ]
     },
     "execution_count": 18,
     "metadata": {},
     "output_type": "execute_result"
    },
    {
     "data": {
      "image/png": "[encoded data removed]",
      "text/plain": [
       "<Figure size 1440x720 with 1 Axes>"
      ]
     },
     "metadata": {
      "needs_background": "light"
     },
     "output_type": "display_data"
    }
   ],
   "source": [
    "plt.figure(figsize=(20,10))\n",
    "sns.countplot('source',data=df, order=df['source'].value_counts().iloc[:10].index)"
   ]
  },
  {
   "cell_type": "code",
   "execution_count": 19,
   "metadata": {},
   "outputs": [
    {
     "data": {
      "image/png": "[encoded data removed]",
      "text/plain": [
       "<Figure size 432x288 with 1 Axes>"
      ]
     },
     "metadata": {
      "needs_background": "light"
     },
     "output_type": "display_data"
    }
   ],
   "source": [
    "\n",
    "ax = sns.countplot(x=\"truncated\",data=df)"
   ]
  },
  {
   "cell_type": "code",
   "execution_count": 20,
   "metadata": {},
   "outputs": [
    {
     "data": {
      "text/plain": [
       "['Thank you High Point, NC! I will fight for every neglected part of this nation &amp; I will fight to bring us together… https://t.co/DSaUpSptBz',\n",
       " 'Thank you Kenansville, North Carolina! Remember- on November 8th, that special interest gravy train is coming to a… https://t.co/AysJRMzvKw',\n",
       " 'It is a MOVEMENT - not a campaign. Leaving the past behind, changing our future. Together, we will MAKE AMERICA SAF… https://t.co/Lt2L3NKzyi',\n",
       " 'Thank you Toledo, Ohio! It is so important for you to get out and VOTE on November 8, 2016! Lets MAKE AMERICA SAFE… https://t.co/MQdp4GgLIE',\n",
       " 'Great new polls! Thank you Nevada, North Carolina &amp; Ohio. Join the MOVEMENT today &amp; lets #MAGA!… https://t.co/Y8Sb8MNyXA',\n",
       " \"Tomorrow's the day! Knock on doors and make calls with us on National Day of Action! #TrumpTrain #MAGA… https://t.co/05NY0wJHkL\",\n",
       " 'Join me in Roanoke, Virginia tomorrow at the Berglund Center- Coliseum ~ 6pm! Tickets available at:… https://t.co/bnEE6NX41Z']"
      ]
     },
     "execution_count": 20,
     "metadata": {},
     "output_type": "execute_result"
    }
   ],
   "source": [
    "list(df[df['truncated'] == True].iloc[:7].text.values)"
   ]
  },
  {
   "cell_type": "code",
   "execution_count": 21,
   "metadata": {},
   "outputs": [
    {
     "data": {
      "text/plain": [
       "\"Tomorrow's the day! Knock on doors and make calls with us on National Day of Action! #TrumpTrain #MAGA… https://t.co/05NY0wJHkL\""
      ]
     },
     "execution_count": 21,
     "metadata": {},
     "output_type": "execute_result"
    }
   ],
   "source": [
    "list(df[df['truncated'] == True].iloc[:7].text.values)[5]"
   ]
  },
  {
   "cell_type": "code",
   "execution_count": 22,
   "metadata": {},
   "outputs": [],
   "source": [
    "df = df[df['truncated'] == False]"
   ]
  },
  {
   "cell_type": "code",
   "execution_count": 23,
   "metadata": {},
   "outputs": [],
   "source": [
    "text = list(df['text'].values)"
   ]
  },
  {
   "cell_type": "code",
   "execution_count": 24,
   "metadata": {},
   "outputs": [
    {
     "data": {
      "image/png": "[encoded data removed]",
      "text/plain": [
       "<Figure size 432x288 with 1 Axes>"
      ]
     },
     "metadata": {
      "needs_background": "light"
     },
     "output_type": "display_data"
    }
   ],
   "source": [
    "ax = sns.distplot([len(tweet) for tweet in text], kde=False)\n",
    "ax.set_title('Frequency of Tweet Length')\n",
    "ax.set_xlabel('Tweet Length')\n",
    "ax.set_ylabel('Frequency Count')\n",
    "plt.show()"
   ]
  },
  {
   "cell_type": "code",
   "execution_count": 25,
   "metadata": {},
   "outputs": [
    {
     "data": {
      "image/png": "[encoded data removed]",
      "text/plain": [
       "<Figure size 432x288 with 1 Axes>"
      ]
     },
     "metadata": {
      "needs_background": "light"
     },
     "output_type": "display_data"
    }
   ],
   "source": [
    "ax = sns.distplot(df['retweet_count'], kde=False)\n",
    "ax.set_title('Distribution of Retweet')\n",
    "ax.set_xlabel('Retweets')\n",
    "ax.set_ylabel('Frequency')\n",
    "plt.show()"
   ]
  },
  {
   "cell_type": "code",
   "execution_count": 26,
   "metadata": {},
   "outputs": [],
   "source": [
    "from nltk.tokenize import word_tokenize\n",
    "hashtags = []\n",
    "parse_tweets = []\n",
    "for tweet in text:\n",
    "    hashtags += [i for i in tweet.split() if i.startswith(\"#\") ]\n",
    "    parse_tweets.append(word_tokenize(tweet))"
   ]
  },
  {
   "cell_type": "code",
   "execution_count": 27,
   "metadata": {},
   "outputs": [
    {
     "data": {
      "image/png": "[encoded data removed]",
      "text/plain": [
       "<Figure size 720x360 with 1 Axes>"
      ]
     },
     "metadata": {
      "needs_background": "light"
     },
     "output_type": "display_data"
    }
   ],
   "source": [
    "from collections import Counter\n",
    "c = Counter(hashtags)\n",
    "\n",
    "val = []\n",
    "hashname = []\n",
    "for idx,i in enumerate(c.most_common(20)):\n",
    "    val.append(i[1])\n",
    "    hashname.append(i[0])\n",
    "plt.figure(figsize=(10,5))\n",
    "sns.barplot(x=hashname, y=val)\n",
    "plt.xlabel('Hashtags')\n",
    "plt.ylabel('Frequency')\n",
    "plt.xticks(rotation=40, horizontalalignment='right', fontsize=10)\n",
    "plt.show()"
   ]
  },
  {
   "cell_type": "code",
   "execution_count": null,
   "metadata": {},
   "outputs": [],
   "source": []
  },
  {
   "cell_type": "code",
   "execution_count": null,
   "metadata": {},
   "outputs": [],
   "source": []
  }
 ],
 "metadata": {
  "kernelspec": {
   "display_name": "Python 3",
   "language": "python",
   "name": "python3"
  },
  "language_info": {
   "codemirror_mode": {
    "name": "ipython",
    "version": 3
   },
   "file_extension": ".py",
   "mimetype": "text/x-python",
   "name": "python",
   "nbconvert_exporter": "python",
   "pygments_lexer": "ipython3",
   "version": "3.6.6"
  }
 },
 "nbformat": 4,
 "nbformat_minor": 1
}
